{
  "cells": [
    {
      "cell_type": "markdown",
      "metadata": {
        "id": "view-in-github",
        "colab_type": "text"
      },
      "source": [
        "<a href=\"https://colab.research.google.com/github/nechitacarina/Fake-News-Classification/blob/main/Fake_News_Classification.ipynb\" target=\"_parent\"><img src=\"https://colab.research.google.com/assets/colab-badge.svg\" alt=\"Open In Colab\"/></a>"
      ]
    },
    {
      "cell_type": "markdown",
      "metadata": {
        "id": "pPf99PYNucMB"
      },
      "source": [
        "##Imports"
      ]
    },
    {
      "cell_type": "code",
      "execution_count": null,
      "metadata": {
        "id": "OBCxdOhAuCdx",
        "colab": {
          "base_uri": "https://localhost:8080/"
        },
        "outputId": "c17896f7-9317-4849-9599-6a48bbfb57ad"
      },
      "outputs": [
        {
          "output_type": "stream",
          "name": "stderr",
          "text": [
            "[nltk_data] Downloading package stopwords to /root/nltk_data...\n",
            "[nltk_data]   Unzipping corpora/stopwords.zip.\n",
            "[nltk_data] Downloading package punkt to /root/nltk_data...\n",
            "[nltk_data]   Unzipping tokenizers/punkt.zip.\n",
            "[nltk_data] Downloading package wordnet to /root/nltk_data...\n"
          ]
        }
      ],
      "source": [
        "import numpy as np\n",
        "import pandas as pd\n",
        "import seaborn as sns\n",
        "import matplotlib.pyplot as plt\n",
        "import zipfile\n",
        "from collections import Counter\n",
        "\n",
        "from sklearn.metrics import classification_report,confusion_matrix, accuracy_score\n",
        "from sklearn.model_selection import train_test_split\n",
        "\n",
        "import keras\n",
        "import tensorflow as tf\n",
        "from keras.preprocessing import text, sequence\n",
        "from keras.models import Sequential\n",
        "from keras.layers import Dense,Embedding,LSTM,Dropout\n",
        "from tensorflow.keras.preprocessing.text import Tokenizer\n",
        "from tensorflow.keras.preprocessing.sequence import pad_sequences\n",
        "\n",
        "import re\n",
        "import nltk\n",
        "from nltk.corpus import stopwords\n",
        "nltk.download('stopwords')\n",
        "nltk.download('punkt')\n",
        "nltk.download('wordnet')\n",
        "from nltk.stem import WordNetLemmatizer\n",
        "from nltk.tokenize import word_tokenize, sent_tokenize\n",
        "from sklearn.feature_extraction.text import TfidfVectorizer"
      ]
    },
    {
      "cell_type": "markdown",
      "metadata": {
        "id": "_Pwl3BQYkUQ9"
      },
      "source": [
        "##Open and Extract the Dataset\n"
      ]
    },
    {
      "cell_type": "code",
      "execution_count": null,
      "metadata": {
        "colab": {
          "base_uri": "https://localhost:8080/"
        },
        "id": "qIt8jQ2ywQ8y",
        "outputId": "b7f24871-dec9-4ebf-886d-95be9f9db17a"
      },
      "outputs": [
        {
          "output_type": "stream",
          "name": "stdout",
          "text": [
            "Mounted at /content/drive\n"
          ]
        }
      ],
      "source": [
        "from google.colab import drive\n",
        "drive.mount('/content/drive')\n",
        "path_file_zip = '/content/drive/My Drive/Dataset/archive.zip'\n",
        "with zipfile.ZipFile(path_file_zip, 'r') as zip_file:\n",
        "    zip_file.extractall('/content')"
      ]
    },
    {
      "cell_type": "code",
      "execution_count": null,
      "metadata": {
        "id": "yyiW2pkcySvg"
      },
      "outputs": [],
      "source": [
        "true_news = pd.read_csv('/content/True.csv')\n",
        "fake_news = pd.read_csv('/content/Fake.csv')"
      ]
    },
    {
      "cell_type": "code",
      "execution_count": null,
      "metadata": {
        "colab": {
          "base_uri": "https://localhost:8080/",
          "height": 206
        },
        "id": "M3XNoYSHyaN5",
        "outputId": "30253a00-8e84-4a62-c7af-5a47f984e11b"
      },
      "outputs": [
        {
          "output_type": "execute_result",
          "data": {
            "text/plain": [
              "                                               title  \\\n",
              "0  As U.S. budget fight looms, Republicans flip t...   \n",
              "1  U.S. military to accept transgender recruits o...   \n",
              "2  Senior U.S. Republican senator: 'Let Mr. Muell...   \n",
              "3  FBI Russia probe helped by Australian diplomat...   \n",
              "4  Trump wants Postal Service to charge 'much mor...   \n",
              "\n",
              "                                                text       subject  \\\n",
              "0  WASHINGTON (Reuters) - The head of a conservat...  politicsNews   \n",
              "1  WASHINGTON (Reuters) - Transgender people will...  politicsNews   \n",
              "2  WASHINGTON (Reuters) - The special counsel inv...  politicsNews   \n",
              "3  WASHINGTON (Reuters) - Trump campaign adviser ...  politicsNews   \n",
              "4  SEATTLE/WASHINGTON (Reuters) - President Donal...  politicsNews   \n",
              "\n",
              "                 date  \n",
              "0  December 31, 2017   \n",
              "1  December 29, 2017   \n",
              "2  December 31, 2017   \n",
              "3  December 30, 2017   \n",
              "4  December 29, 2017   "
            ],
            "text/html": [
              "\n",
              "  <div id=\"df-83288bfd-5f24-443b-a87f-fdd89e5bda8c\" class=\"colab-df-container\">\n",
              "    <div>\n",
              "<style scoped>\n",
              "    .dataframe tbody tr th:only-of-type {\n",
              "        vertical-align: middle;\n",
              "    }\n",
              "\n",
              "    .dataframe tbody tr th {\n",
              "        vertical-align: top;\n",
              "    }\n",
              "\n",
              "    .dataframe thead th {\n",
              "        text-align: right;\n",
              "    }\n",
              "</style>\n",
              "<table border=\"1\" class=\"dataframe\">\n",
              "  <thead>\n",
              "    <tr style=\"text-align: right;\">\n",
              "      <th></th>\n",
              "      <th>title</th>\n",
              "      <th>text</th>\n",
              "      <th>subject</th>\n",
              "      <th>date</th>\n",
              "    </tr>\n",
              "  </thead>\n",
              "  <tbody>\n",
              "    <tr>\n",
              "      <th>0</th>\n",
              "      <td>As U.S. budget fight looms, Republicans flip t...</td>\n",
              "      <td>WASHINGTON (Reuters) - The head of a conservat...</td>\n",
              "      <td>politicsNews</td>\n",
              "      <td>December 31, 2017</td>\n",
              "    </tr>\n",
              "    <tr>\n",
              "      <th>1</th>\n",
              "      <td>U.S. military to accept transgender recruits o...</td>\n",
              "      <td>WASHINGTON (Reuters) - Transgender people will...</td>\n",
              "      <td>politicsNews</td>\n",
              "      <td>December 29, 2017</td>\n",
              "    </tr>\n",
              "    <tr>\n",
              "      <th>2</th>\n",
              "      <td>Senior U.S. Republican senator: 'Let Mr. Muell...</td>\n",
              "      <td>WASHINGTON (Reuters) - The special counsel inv...</td>\n",
              "      <td>politicsNews</td>\n",
              "      <td>December 31, 2017</td>\n",
              "    </tr>\n",
              "    <tr>\n",
              "      <th>3</th>\n",
              "      <td>FBI Russia probe helped by Australian diplomat...</td>\n",
              "      <td>WASHINGTON (Reuters) - Trump campaign adviser ...</td>\n",
              "      <td>politicsNews</td>\n",
              "      <td>December 30, 2017</td>\n",
              "    </tr>\n",
              "    <tr>\n",
              "      <th>4</th>\n",
              "      <td>Trump wants Postal Service to charge 'much mor...</td>\n",
              "      <td>SEATTLE/WASHINGTON (Reuters) - President Donal...</td>\n",
              "      <td>politicsNews</td>\n",
              "      <td>December 29, 2017</td>\n",
              "    </tr>\n",
              "  </tbody>\n",
              "</table>\n",
              "</div>\n",
              "    <div class=\"colab-df-buttons\">\n",
              "\n",
              "  <div class=\"colab-df-container\">\n",
              "    <button class=\"colab-df-convert\" onclick=\"convertToInteractive('df-83288bfd-5f24-443b-a87f-fdd89e5bda8c')\"\n",
              "            title=\"Convert this dataframe to an interactive table.\"\n",
              "            style=\"display:none;\">\n",
              "\n",
              "  <svg xmlns=\"http://www.w3.org/2000/svg\" height=\"24px\" viewBox=\"0 -960 960 960\">\n",
              "    <path d=\"M120-120v-720h720v720H120Zm60-500h600v-160H180v160Zm220 220h160v-160H400v160Zm0 220h160v-160H400v160ZM180-400h160v-160H180v160Zm440 0h160v-160H620v160ZM180-180h160v-160H180v160Zm440 0h160v-160H620v160Z\"/>\n",
              "  </svg>\n",
              "    </button>\n",
              "\n",
              "  <style>\n",
              "    .colab-df-container {\n",
              "      display:flex;\n",
              "      gap: 12px;\n",
              "    }\n",
              "\n",
              "    .colab-df-convert {\n",
              "      background-color: #E8F0FE;\n",
              "      border: none;\n",
              "      border-radius: 50%;\n",
              "      cursor: pointer;\n",
              "      display: none;\n",
              "      fill: #1967D2;\n",
              "      height: 32px;\n",
              "      padding: 0 0 0 0;\n",
              "      width: 32px;\n",
              "    }\n",
              "\n",
              "    .colab-df-convert:hover {\n",
              "      background-color: #E2EBFA;\n",
              "      box-shadow: 0px 1px 2px rgba(60, 64, 67, 0.3), 0px 1px 3px 1px rgba(60, 64, 67, 0.15);\n",
              "      fill: #174EA6;\n",
              "    }\n",
              "\n",
              "    .colab-df-buttons div {\n",
              "      margin-bottom: 4px;\n",
              "    }\n",
              "\n",
              "    [theme=dark] .colab-df-convert {\n",
              "      background-color: #3B4455;\n",
              "      fill: #D2E3FC;\n",
              "    }\n",
              "\n",
              "    [theme=dark] .colab-df-convert:hover {\n",
              "      background-color: #434B5C;\n",
              "      box-shadow: 0px 1px 3px 1px rgba(0, 0, 0, 0.15);\n",
              "      filter: drop-shadow(0px 1px 2px rgba(0, 0, 0, 0.3));\n",
              "      fill: #FFFFFF;\n",
              "    }\n",
              "  </style>\n",
              "\n",
              "    <script>\n",
              "      const buttonEl =\n",
              "        document.querySelector('#df-83288bfd-5f24-443b-a87f-fdd89e5bda8c button.colab-df-convert');\n",
              "      buttonEl.style.display =\n",
              "        google.colab.kernel.accessAllowed ? 'block' : 'none';\n",
              "\n",
              "      async function convertToInteractive(key) {\n",
              "        const element = document.querySelector('#df-83288bfd-5f24-443b-a87f-fdd89e5bda8c');\n",
              "        const dataTable =\n",
              "          await google.colab.kernel.invokeFunction('convertToInteractive',\n",
              "                                                    [key], {});\n",
              "        if (!dataTable) return;\n",
              "\n",
              "        const docLinkHtml = 'Like what you see? Visit the ' +\n",
              "          '<a target=\"_blank\" href=https://colab.research.google.com/notebooks/data_table.ipynb>data table notebook</a>'\n",
              "          + ' to learn more about interactive tables.';\n",
              "        element.innerHTML = '';\n",
              "        dataTable['output_type'] = 'display_data';\n",
              "        await google.colab.output.renderOutput(dataTable, element);\n",
              "        const docLink = document.createElement('div');\n",
              "        docLink.innerHTML = docLinkHtml;\n",
              "        element.appendChild(docLink);\n",
              "      }\n",
              "    </script>\n",
              "  </div>\n",
              "\n",
              "\n",
              "<div id=\"df-d1444415-477d-48ee-acbe-fc46f6446b9f\">\n",
              "  <button class=\"colab-df-quickchart\" onclick=\"quickchart('df-d1444415-477d-48ee-acbe-fc46f6446b9f')\"\n",
              "            title=\"Suggest charts\"\n",
              "            style=\"display:none;\">\n",
              "\n",
              "<svg xmlns=\"http://www.w3.org/2000/svg\" height=\"24px\"viewBox=\"0 0 24 24\"\n",
              "     width=\"24px\">\n",
              "    <g>\n",
              "        <path d=\"M19 3H5c-1.1 0-2 .9-2 2v14c0 1.1.9 2 2 2h14c1.1 0 2-.9 2-2V5c0-1.1-.9-2-2-2zM9 17H7v-7h2v7zm4 0h-2V7h2v10zm4 0h-2v-4h2v4z\"/>\n",
              "    </g>\n",
              "</svg>\n",
              "  </button>\n",
              "\n",
              "<style>\n",
              "  .colab-df-quickchart {\n",
              "      --bg-color: #E8F0FE;\n",
              "      --fill-color: #1967D2;\n",
              "      --hover-bg-color: #E2EBFA;\n",
              "      --hover-fill-color: #174EA6;\n",
              "      --disabled-fill-color: #AAA;\n",
              "      --disabled-bg-color: #DDD;\n",
              "  }\n",
              "\n",
              "  [theme=dark] .colab-df-quickchart {\n",
              "      --bg-color: #3B4455;\n",
              "      --fill-color: #D2E3FC;\n",
              "      --hover-bg-color: #434B5C;\n",
              "      --hover-fill-color: #FFFFFF;\n",
              "      --disabled-bg-color: #3B4455;\n",
              "      --disabled-fill-color: #666;\n",
              "  }\n",
              "\n",
              "  .colab-df-quickchart {\n",
              "    background-color: var(--bg-color);\n",
              "    border: none;\n",
              "    border-radius: 50%;\n",
              "    cursor: pointer;\n",
              "    display: none;\n",
              "    fill: var(--fill-color);\n",
              "    height: 32px;\n",
              "    padding: 0;\n",
              "    width: 32px;\n",
              "  }\n",
              "\n",
              "  .colab-df-quickchart:hover {\n",
              "    background-color: var(--hover-bg-color);\n",
              "    box-shadow: 0 1px 2px rgba(60, 64, 67, 0.3), 0 1px 3px 1px rgba(60, 64, 67, 0.15);\n",
              "    fill: var(--button-hover-fill-color);\n",
              "  }\n",
              "\n",
              "  .colab-df-quickchart-complete:disabled,\n",
              "  .colab-df-quickchart-complete:disabled:hover {\n",
              "    background-color: var(--disabled-bg-color);\n",
              "    fill: var(--disabled-fill-color);\n",
              "    box-shadow: none;\n",
              "  }\n",
              "\n",
              "  .colab-df-spinner {\n",
              "    border: 2px solid var(--fill-color);\n",
              "    border-color: transparent;\n",
              "    border-bottom-color: var(--fill-color);\n",
              "    animation:\n",
              "      spin 1s steps(1) infinite;\n",
              "  }\n",
              "\n",
              "  @keyframes spin {\n",
              "    0% {\n",
              "      border-color: transparent;\n",
              "      border-bottom-color: var(--fill-color);\n",
              "      border-left-color: var(--fill-color);\n",
              "    }\n",
              "    20% {\n",
              "      border-color: transparent;\n",
              "      border-left-color: var(--fill-color);\n",
              "      border-top-color: var(--fill-color);\n",
              "    }\n",
              "    30% {\n",
              "      border-color: transparent;\n",
              "      border-left-color: var(--fill-color);\n",
              "      border-top-color: var(--fill-color);\n",
              "      border-right-color: var(--fill-color);\n",
              "    }\n",
              "    40% {\n",
              "      border-color: transparent;\n",
              "      border-right-color: var(--fill-color);\n",
              "      border-top-color: var(--fill-color);\n",
              "    }\n",
              "    60% {\n",
              "      border-color: transparent;\n",
              "      border-right-color: var(--fill-color);\n",
              "    }\n",
              "    80% {\n",
              "      border-color: transparent;\n",
              "      border-right-color: var(--fill-color);\n",
              "      border-bottom-color: var(--fill-color);\n",
              "    }\n",
              "    90% {\n",
              "      border-color: transparent;\n",
              "      border-bottom-color: var(--fill-color);\n",
              "    }\n",
              "  }\n",
              "</style>\n",
              "\n",
              "  <script>\n",
              "    async function quickchart(key) {\n",
              "      const quickchartButtonEl =\n",
              "        document.querySelector('#' + key + ' button');\n",
              "      quickchartButtonEl.disabled = true;  // To prevent multiple clicks.\n",
              "      quickchartButtonEl.classList.add('colab-df-spinner');\n",
              "      try {\n",
              "        const charts = await google.colab.kernel.invokeFunction(\n",
              "            'suggestCharts', [key], {});\n",
              "      } catch (error) {\n",
              "        console.error('Error during call to suggestCharts:', error);\n",
              "      }\n",
              "      quickchartButtonEl.classList.remove('colab-df-spinner');\n",
              "      quickchartButtonEl.classList.add('colab-df-quickchart-complete');\n",
              "    }\n",
              "    (() => {\n",
              "      let quickchartButtonEl =\n",
              "        document.querySelector('#df-d1444415-477d-48ee-acbe-fc46f6446b9f button');\n",
              "      quickchartButtonEl.style.display =\n",
              "        google.colab.kernel.accessAllowed ? 'block' : 'none';\n",
              "    })();\n",
              "  </script>\n",
              "</div>\n",
              "    </div>\n",
              "  </div>\n"
            ]
          },
          "metadata": {},
          "execution_count": 4
        }
      ],
      "source": [
        "true_news.head()"
      ]
    },
    {
      "cell_type": "code",
      "execution_count": null,
      "metadata": {
        "colab": {
          "base_uri": "https://localhost:8080/",
          "height": 206
        },
        "id": "rDHZicyKydyG",
        "outputId": "92ab32e7-1cd9-4316-9408-859df464c872"
      },
      "outputs": [
        {
          "output_type": "execute_result",
          "data": {
            "text/plain": [
              "                                               title  \\\n",
              "0   Donald Trump Sends Out Embarrassing New Year’...   \n",
              "1   Drunk Bragging Trump Staffer Started Russian ...   \n",
              "2   Sheriff David Clarke Becomes An Internet Joke...   \n",
              "3   Trump Is So Obsessed He Even Has Obama’s Name...   \n",
              "4   Pope Francis Just Called Out Donald Trump Dur...   \n",
              "\n",
              "                                                text subject  \\\n",
              "0  Donald Trump just couldn t wish all Americans ...    News   \n",
              "1  House Intelligence Committee Chairman Devin Nu...    News   \n",
              "2  On Friday, it was revealed that former Milwauk...    News   \n",
              "3  On Christmas day, Donald Trump announced that ...    News   \n",
              "4  Pope Francis used his annual Christmas Day mes...    News   \n",
              "\n",
              "                date  \n",
              "0  December 31, 2017  \n",
              "1  December 31, 2017  \n",
              "2  December 30, 2017  \n",
              "3  December 29, 2017  \n",
              "4  December 25, 2017  "
            ],
            "text/html": [
              "\n",
              "  <div id=\"df-cddc521e-2ef8-48e8-a1e4-e6dab8241b4d\" class=\"colab-df-container\">\n",
              "    <div>\n",
              "<style scoped>\n",
              "    .dataframe tbody tr th:only-of-type {\n",
              "        vertical-align: middle;\n",
              "    }\n",
              "\n",
              "    .dataframe tbody tr th {\n",
              "        vertical-align: top;\n",
              "    }\n",
              "\n",
              "    .dataframe thead th {\n",
              "        text-align: right;\n",
              "    }\n",
              "</style>\n",
              "<table border=\"1\" class=\"dataframe\">\n",
              "  <thead>\n",
              "    <tr style=\"text-align: right;\">\n",
              "      <th></th>\n",
              "      <th>title</th>\n",
              "      <th>text</th>\n",
              "      <th>subject</th>\n",
              "      <th>date</th>\n",
              "    </tr>\n",
              "  </thead>\n",
              "  <tbody>\n",
              "    <tr>\n",
              "      <th>0</th>\n",
              "      <td>Donald Trump Sends Out Embarrassing New Year’...</td>\n",
              "      <td>Donald Trump just couldn t wish all Americans ...</td>\n",
              "      <td>News</td>\n",
              "      <td>December 31, 2017</td>\n",
              "    </tr>\n",
              "    <tr>\n",
              "      <th>1</th>\n",
              "      <td>Drunk Bragging Trump Staffer Started Russian ...</td>\n",
              "      <td>House Intelligence Committee Chairman Devin Nu...</td>\n",
              "      <td>News</td>\n",
              "      <td>December 31, 2017</td>\n",
              "    </tr>\n",
              "    <tr>\n",
              "      <th>2</th>\n",
              "      <td>Sheriff David Clarke Becomes An Internet Joke...</td>\n",
              "      <td>On Friday, it was revealed that former Milwauk...</td>\n",
              "      <td>News</td>\n",
              "      <td>December 30, 2017</td>\n",
              "    </tr>\n",
              "    <tr>\n",
              "      <th>3</th>\n",
              "      <td>Trump Is So Obsessed He Even Has Obama’s Name...</td>\n",
              "      <td>On Christmas day, Donald Trump announced that ...</td>\n",
              "      <td>News</td>\n",
              "      <td>December 29, 2017</td>\n",
              "    </tr>\n",
              "    <tr>\n",
              "      <th>4</th>\n",
              "      <td>Pope Francis Just Called Out Donald Trump Dur...</td>\n",
              "      <td>Pope Francis used his annual Christmas Day mes...</td>\n",
              "      <td>News</td>\n",
              "      <td>December 25, 2017</td>\n",
              "    </tr>\n",
              "  </tbody>\n",
              "</table>\n",
              "</div>\n",
              "    <div class=\"colab-df-buttons\">\n",
              "\n",
              "  <div class=\"colab-df-container\">\n",
              "    <button class=\"colab-df-convert\" onclick=\"convertToInteractive('df-cddc521e-2ef8-48e8-a1e4-e6dab8241b4d')\"\n",
              "            title=\"Convert this dataframe to an interactive table.\"\n",
              "            style=\"display:none;\">\n",
              "\n",
              "  <svg xmlns=\"http://www.w3.org/2000/svg\" height=\"24px\" viewBox=\"0 -960 960 960\">\n",
              "    <path d=\"M120-120v-720h720v720H120Zm60-500h600v-160H180v160Zm220 220h160v-160H400v160Zm0 220h160v-160H400v160ZM180-400h160v-160H180v160Zm440 0h160v-160H620v160ZM180-180h160v-160H180v160Zm440 0h160v-160H620v160Z\"/>\n",
              "  </svg>\n",
              "    </button>\n",
              "\n",
              "  <style>\n",
              "    .colab-df-container {\n",
              "      display:flex;\n",
              "      gap: 12px;\n",
              "    }\n",
              "\n",
              "    .colab-df-convert {\n",
              "      background-color: #E8F0FE;\n",
              "      border: none;\n",
              "      border-radius: 50%;\n",
              "      cursor: pointer;\n",
              "      display: none;\n",
              "      fill: #1967D2;\n",
              "      height: 32px;\n",
              "      padding: 0 0 0 0;\n",
              "      width: 32px;\n",
              "    }\n",
              "\n",
              "    .colab-df-convert:hover {\n",
              "      background-color: #E2EBFA;\n",
              "      box-shadow: 0px 1px 2px rgba(60, 64, 67, 0.3), 0px 1px 3px 1px rgba(60, 64, 67, 0.15);\n",
              "      fill: #174EA6;\n",
              "    }\n",
              "\n",
              "    .colab-df-buttons div {\n",
              "      margin-bottom: 4px;\n",
              "    }\n",
              "\n",
              "    [theme=dark] .colab-df-convert {\n",
              "      background-color: #3B4455;\n",
              "      fill: #D2E3FC;\n",
              "    }\n",
              "\n",
              "    [theme=dark] .colab-df-convert:hover {\n",
              "      background-color: #434B5C;\n",
              "      box-shadow: 0px 1px 3px 1px rgba(0, 0, 0, 0.15);\n",
              "      filter: drop-shadow(0px 1px 2px rgba(0, 0, 0, 0.3));\n",
              "      fill: #FFFFFF;\n",
              "    }\n",
              "  </style>\n",
              "\n",
              "    <script>\n",
              "      const buttonEl =\n",
              "        document.querySelector('#df-cddc521e-2ef8-48e8-a1e4-e6dab8241b4d button.colab-df-convert');\n",
              "      buttonEl.style.display =\n",
              "        google.colab.kernel.accessAllowed ? 'block' : 'none';\n",
              "\n",
              "      async function convertToInteractive(key) {\n",
              "        const element = document.querySelector('#df-cddc521e-2ef8-48e8-a1e4-e6dab8241b4d');\n",
              "        const dataTable =\n",
              "          await google.colab.kernel.invokeFunction('convertToInteractive',\n",
              "                                                    [key], {});\n",
              "        if (!dataTable) return;\n",
              "\n",
              "        const docLinkHtml = 'Like what you see? Visit the ' +\n",
              "          '<a target=\"_blank\" href=https://colab.research.google.com/notebooks/data_table.ipynb>data table notebook</a>'\n",
              "          + ' to learn more about interactive tables.';\n",
              "        element.innerHTML = '';\n",
              "        dataTable['output_type'] = 'display_data';\n",
              "        await google.colab.output.renderOutput(dataTable, element);\n",
              "        const docLink = document.createElement('div');\n",
              "        docLink.innerHTML = docLinkHtml;\n",
              "        element.appendChild(docLink);\n",
              "      }\n",
              "    </script>\n",
              "  </div>\n",
              "\n",
              "\n",
              "<div id=\"df-4f8c7e15-805e-422a-a8f4-49491a87ecf7\">\n",
              "  <button class=\"colab-df-quickchart\" onclick=\"quickchart('df-4f8c7e15-805e-422a-a8f4-49491a87ecf7')\"\n",
              "            title=\"Suggest charts\"\n",
              "            style=\"display:none;\">\n",
              "\n",
              "<svg xmlns=\"http://www.w3.org/2000/svg\" height=\"24px\"viewBox=\"0 0 24 24\"\n",
              "     width=\"24px\">\n",
              "    <g>\n",
              "        <path d=\"M19 3H5c-1.1 0-2 .9-2 2v14c0 1.1.9 2 2 2h14c1.1 0 2-.9 2-2V5c0-1.1-.9-2-2-2zM9 17H7v-7h2v7zm4 0h-2V7h2v10zm4 0h-2v-4h2v4z\"/>\n",
              "    </g>\n",
              "</svg>\n",
              "  </button>\n",
              "\n",
              "<style>\n",
              "  .colab-df-quickchart {\n",
              "      --bg-color: #E8F0FE;\n",
              "      --fill-color: #1967D2;\n",
              "      --hover-bg-color: #E2EBFA;\n",
              "      --hover-fill-color: #174EA6;\n",
              "      --disabled-fill-color: #AAA;\n",
              "      --disabled-bg-color: #DDD;\n",
              "  }\n",
              "\n",
              "  [theme=dark] .colab-df-quickchart {\n",
              "      --bg-color: #3B4455;\n",
              "      --fill-color: #D2E3FC;\n",
              "      --hover-bg-color: #434B5C;\n",
              "      --hover-fill-color: #FFFFFF;\n",
              "      --disabled-bg-color: #3B4455;\n",
              "      --disabled-fill-color: #666;\n",
              "  }\n",
              "\n",
              "  .colab-df-quickchart {\n",
              "    background-color: var(--bg-color);\n",
              "    border: none;\n",
              "    border-radius: 50%;\n",
              "    cursor: pointer;\n",
              "    display: none;\n",
              "    fill: var(--fill-color);\n",
              "    height: 32px;\n",
              "    padding: 0;\n",
              "    width: 32px;\n",
              "  }\n",
              "\n",
              "  .colab-df-quickchart:hover {\n",
              "    background-color: var(--hover-bg-color);\n",
              "    box-shadow: 0 1px 2px rgba(60, 64, 67, 0.3), 0 1px 3px 1px rgba(60, 64, 67, 0.15);\n",
              "    fill: var(--button-hover-fill-color);\n",
              "  }\n",
              "\n",
              "  .colab-df-quickchart-complete:disabled,\n",
              "  .colab-df-quickchart-complete:disabled:hover {\n",
              "    background-color: var(--disabled-bg-color);\n",
              "    fill: var(--disabled-fill-color);\n",
              "    box-shadow: none;\n",
              "  }\n",
              "\n",
              "  .colab-df-spinner {\n",
              "    border: 2px solid var(--fill-color);\n",
              "    border-color: transparent;\n",
              "    border-bottom-color: var(--fill-color);\n",
              "    animation:\n",
              "      spin 1s steps(1) infinite;\n",
              "  }\n",
              "\n",
              "  @keyframes spin {\n",
              "    0% {\n",
              "      border-color: transparent;\n",
              "      border-bottom-color: var(--fill-color);\n",
              "      border-left-color: var(--fill-color);\n",
              "    }\n",
              "    20% {\n",
              "      border-color: transparent;\n",
              "      border-left-color: var(--fill-color);\n",
              "      border-top-color: var(--fill-color);\n",
              "    }\n",
              "    30% {\n",
              "      border-color: transparent;\n",
              "      border-left-color: var(--fill-color);\n",
              "      border-top-color: var(--fill-color);\n",
              "      border-right-color: var(--fill-color);\n",
              "    }\n",
              "    40% {\n",
              "      border-color: transparent;\n",
              "      border-right-color: var(--fill-color);\n",
              "      border-top-color: var(--fill-color);\n",
              "    }\n",
              "    60% {\n",
              "      border-color: transparent;\n",
              "      border-right-color: var(--fill-color);\n",
              "    }\n",
              "    80% {\n",
              "      border-color: transparent;\n",
              "      border-right-color: var(--fill-color);\n",
              "      border-bottom-color: var(--fill-color);\n",
              "    }\n",
              "    90% {\n",
              "      border-color: transparent;\n",
              "      border-bottom-color: var(--fill-color);\n",
              "    }\n",
              "  }\n",
              "</style>\n",
              "\n",
              "  <script>\n",
              "    async function quickchart(key) {\n",
              "      const quickchartButtonEl =\n",
              "        document.querySelector('#' + key + ' button');\n",
              "      quickchartButtonEl.disabled = true;  // To prevent multiple clicks.\n",
              "      quickchartButtonEl.classList.add('colab-df-spinner');\n",
              "      try {\n",
              "        const charts = await google.colab.kernel.invokeFunction(\n",
              "            'suggestCharts', [key], {});\n",
              "      } catch (error) {\n",
              "        console.error('Error during call to suggestCharts:', error);\n",
              "      }\n",
              "      quickchartButtonEl.classList.remove('colab-df-spinner');\n",
              "      quickchartButtonEl.classList.add('colab-df-quickchart-complete');\n",
              "    }\n",
              "    (() => {\n",
              "      let quickchartButtonEl =\n",
              "        document.querySelector('#df-4f8c7e15-805e-422a-a8f4-49491a87ecf7 button');\n",
              "      quickchartButtonEl.style.display =\n",
              "        google.colab.kernel.accessAllowed ? 'block' : 'none';\n",
              "    })();\n",
              "  </script>\n",
              "</div>\n",
              "    </div>\n",
              "  </div>\n"
            ]
          },
          "metadata": {},
          "execution_count": 5
        }
      ],
      "source": [
        "fake_news.head()"
      ]
    },
    {
      "cell_type": "code",
      "execution_count": null,
      "metadata": {
        "colab": {
          "base_uri": "https://localhost:8080/"
        },
        "id": "jenvYnswyypf",
        "outputId": "47e3f32c-d2a7-4773-9de9-ce36cd30114b"
      },
      "outputs": [
        {
          "output_type": "stream",
          "name": "stdout",
          "text": [
            "<class 'pandas.core.frame.DataFrame'>\n",
            "RangeIndex: 21417 entries, 0 to 21416\n",
            "Data columns (total 4 columns):\n",
            " #   Column   Non-Null Count  Dtype \n",
            "---  ------   --------------  ----- \n",
            " 0   title    21417 non-null  object\n",
            " 1   text     21417 non-null  object\n",
            " 2   subject  21417 non-null  object\n",
            " 3   date     21417 non-null  object\n",
            "dtypes: object(4)\n",
            "memory usage: 669.4+ KB\n",
            "<class 'pandas.core.frame.DataFrame'>\n",
            "RangeIndex: 23481 entries, 0 to 23480\n",
            "Data columns (total 4 columns):\n",
            " #   Column   Non-Null Count  Dtype \n",
            "---  ------   --------------  ----- \n",
            " 0   title    23481 non-null  object\n",
            " 1   text     23481 non-null  object\n",
            " 2   subject  23481 non-null  object\n",
            " 3   date     23481 non-null  object\n",
            "dtypes: object(4)\n",
            "memory usage: 733.9+ KB\n"
          ]
        }
      ],
      "source": [
        "true_news.info()\n",
        "fake_news.info()"
      ]
    },
    {
      "cell_type": "markdown",
      "metadata": {
        "id": "yi3fRGnIk4gh"
      },
      "source": [
        "##Exploring and Cleaning the Dataset"
      ]
    },
    {
      "cell_type": "code",
      "execution_count": null,
      "metadata": {
        "colab": {
          "base_uri": "https://localhost:8080/"
        },
        "id": "hJNDAstDb-et",
        "outputId": "dad83452-8f20-4643-9c62-c2fb9ac78ae3"
      },
      "outputs": [
        {
          "output_type": "execute_result",
          "data": {
            "text/plain": [
              "(44898, 5)"
            ]
          },
          "metadata": {},
          "execution_count": 7
        }
      ],
      "source": [
        "true_news['class'] = 1\n",
        "fake_news['class'] = 0\n",
        "news = pd.concat([true_news, fake_news])\n",
        "news.shape"
      ]
    },
    {
      "cell_type": "code",
      "execution_count": null,
      "metadata": {
        "colab": {
          "base_uri": "https://localhost:8080/"
        },
        "id": "5dRQI-YQtfXp",
        "outputId": "8e017a13-9ed8-4022-beb1-25d83faf0d67"
      },
      "outputs": [
        {
          "output_type": "stream",
          "name": "stdout",
          "text": [
            "<class 'pandas.core.frame.DataFrame'>\n",
            "Int64Index: 44898 entries, 0 to 23480\n",
            "Data columns (total 5 columns):\n",
            " #   Column   Non-Null Count  Dtype \n",
            "---  ------   --------------  ----- \n",
            " 0   title    44898 non-null  object\n",
            " 1   text     44898 non-null  object\n",
            " 2   subject  44898 non-null  object\n",
            " 3   date     44898 non-null  object\n",
            " 4   class    44898 non-null  int64 \n",
            "dtypes: int64(1), object(4)\n",
            "memory usage: 2.1+ MB\n"
          ]
        }
      ],
      "source": [
        "news.info()"
      ]
    },
    {
      "cell_type": "code",
      "execution_count": null,
      "metadata": {
        "colab": {
          "base_uri": "https://localhost:8080/"
        },
        "id": "THzk1mRj0tUR",
        "outputId": "b3ffa520-02ed-4e90-8b13-28c06daf4144"
      },
      "outputs": [
        {
          "output_type": "execute_result",
          "data": {
            "text/plain": [
              "0    23481\n",
              "1    21417\n",
              "Name: class, dtype: int64"
            ]
          },
          "metadata": {},
          "execution_count": 9
        }
      ],
      "source": [
        "news['class'].value_counts()"
      ]
    },
    {
      "cell_type": "code",
      "execution_count": null,
      "metadata": {
        "colab": {
          "base_uri": "https://localhost:8080/",
          "height": 735
        },
        "id": "t-KnPbqL2Sxh",
        "outputId": "621e30b6-6dc9-4448-c5d1-f852fa55d4e3"
      },
      "outputs": [
        {
          "output_type": "execute_result",
          "data": {
            "text/plain": [
              "[Text(0.5, 1.0, 'Class Frequency')]"
            ]
          },
          "metadata": {},
          "execution_count": 10
        },
        {
          "output_type": "display_data",
          "data": {
            "text/plain": [
              "<Figure size 1000x800 with 1 Axes>"
            ],
            "image/png": "[encoded data removed]"
          },
          "metadata": {}
        }
      ],
      "source": [
        "plt.figure(figsize = [10, 8], clear = True, facecolor = 'white')\n",
        "sns.barplot(x = news['class'].value_counts().index,\n",
        "            y = news['class'].value_counts(),\n",
        "            saturation = 1).set(title = 'Class Frequency')"
      ]
    },
    {
      "cell_type": "code",
      "execution_count": null,
      "metadata": {
        "colab": {
          "base_uri": "https://localhost:8080/"
        },
        "id": "4rFS6tgru338",
        "outputId": "d38fa718-6c35-44df-ad7f-077b5bb5014b"
      },
      "outputs": [
        {
          "output_type": "execute_result",
          "data": {
            "text/plain": [
              "News               9050\n",
              "politics           6841\n",
              "left-news          4459\n",
              "Government News    1570\n",
              "US_News             783\n",
              "Middle-east         778\n",
              "Name: subject, dtype: int64"
            ]
          },
          "metadata": {},
          "execution_count": 11
        }
      ],
      "source": [
        "news[news['class'] == 0]['subject'].value_counts()"
      ]
    },
    {
      "cell_type": "code",
      "execution_count": null,
      "metadata": {
        "colab": {
          "base_uri": "https://localhost:8080/"
        },
        "id": "k36hdqWl1K-C",
        "outputId": "d46db05b-3b4c-4764-968e-8b79bb007295"
      },
      "outputs": [
        {
          "output_type": "execute_result",
          "data": {
            "text/plain": [
              "politicsNews    11272\n",
              "worldnews       10145\n",
              "Name: subject, dtype: int64"
            ]
          },
          "metadata": {},
          "execution_count": 12
        }
      ],
      "source": [
        "news[news['class'] == 1]['subject'].value_counts()"
      ]
    },
    {
      "cell_type": "code",
      "execution_count": null,
      "metadata": {
        "colab": {
          "base_uri": "https://localhost:8080/",
          "height": 812
        },
        "id": "nu-nomU33JlW",
        "outputId": "325ce218-8306-4e7a-f626-1f16c7c9f454"
      },
      "outputs": [
        {
          "output_type": "execute_result",
          "data": {
            "text/plain": [
              "[Text(0.5, 1.0, 'Subject frequencies')]"
            ]
          },
          "metadata": {},
          "execution_count": 13
        },
        {
          "output_type": "display_data",
          "data": {
            "text/plain": [
              "<Figure size 1500x900 with 1 Axes>"
            ],
            "image/png": "[encoded data removed]"
          },
          "metadata": {}
        }
      ],
      "source": [
        "plt.figure(figsize = [15, 9], clear = True, facecolor = 'white')\n",
        "sns.barplot(x = news['subject'].value_counts().index,\n",
        "            y = news['subject'].value_counts(),\n",
        "            saturation = 1).set(title = \"Subject frequencies\")"
      ]
    },
    {
      "cell_type": "code",
      "execution_count": null,
      "metadata": {
        "colab": {
          "base_uri": "https://localhost:8080/"
        },
        "id": "GJxP0MFMYg8C",
        "outputId": "7252f7c4-b5b1-4706-a489-18025b3b78bf"
      },
      "outputs": [
        {
          "output_type": "execute_result",
          "data": {
            "text/plain": [
              "209"
            ]
          },
          "metadata": {},
          "execution_count": 14
        }
      ],
      "source": [
        "news.duplicated().sum()"
      ]
    },
    {
      "cell_type": "code",
      "execution_count": null,
      "metadata": {
        "id": "Cd1qdOBmYi4m"
      },
      "outputs": [],
      "source": [
        "news.drop_duplicates(inplace = True)"
      ]
    },
    {
      "cell_type": "code",
      "execution_count": null,
      "metadata": {
        "id": "YJl6ARd94Rit"
      },
      "outputs": [],
      "source": [
        "news.drop(['title', 'date', 'subject'], axis = 1, inplace = True)"
      ]
    },
    {
      "cell_type": "code",
      "execution_count": null,
      "metadata": {
        "colab": {
          "base_uri": "https://localhost:8080/"
        },
        "id": "b02ZANzL8xmq",
        "outputId": "aa7e7390-c152-43bd-e02a-d61a7c6d68fe"
      },
      "outputs": [
        {
          "output_type": "stream",
          "name": "stdout",
          "text": [
            "trump: 74241\n",
            "said: 31148\n",
            "people: 26015\n",
            "president: 25771\n",
            "would: 23460\n",
            "one: 22992\n",
            "clinton: 18080\n",
            "obama: 17920\n",
            "like: 17659\n",
            "donald: 17235\n"
          ]
        }
      ],
      "source": [
        "fake_text = ' '.join(news[news['class'] == 0]['text']) # Combine the text from the 'text' column of the news DataFrame into a single string.\n",
        "words = nltk.word_tokenize(fake_text) # Tokenize the combined text into a list of words.\n",
        "words = [word for word in words if word.isalpha()] # Filter out non-alphabetic words from the list.\n",
        "stop_words = set(stopwords.words('english')) # Create a set of English stop words using NLTK.\n",
        "words = [word.lower() for word in words if word.lower() not in stop_words] # Remove stop words from the list of words, and convert them to lowercase.\n",
        "word_freq = Counter(words) # Count the frequency of each word.\n",
        "most_common_words = word_freq.most_common(10) # Extract the 10 most common words and their frequencies.\n",
        "for word, freq in most_common_words:\n",
        "    print(f\"{word}: {freq}\")"
      ]
    },
    {
      "cell_type": "code",
      "execution_count": null,
      "metadata": {
        "colab": {
          "base_uri": "https://localhost:8080/"
        },
        "id": "ppK5AWDh7rS4",
        "outputId": "da6c27ad-43f8-4b03-97f7-ec52b487e8ba"
      },
      "outputs": [
        {
          "output_type": "stream",
          "name": "stdout",
          "text": [
            "said: 97839\n",
            "trump: 53639\n",
            "would: 31168\n",
            "reuters: 28118\n",
            "president: 26107\n",
            "state: 19525\n",
            "government: 18007\n",
            "new: 16625\n",
            "house: 16365\n",
            "states: 16278\n"
          ]
        }
      ],
      "source": [
        "real_text = ' '.join(news[news['class'] == 1]['text']) # Combine the text from the 'text' column of the news DataFrame into a single string.\n",
        "words = nltk.word_tokenize(real_text) # Tokenize the combined text into a list of words.\n",
        "words = [word for word in words if word.isalpha()] # Filter out non-alphabetic words from the list.\n",
        "stop_words = set(stopwords.words('english')) # Create a set of English stop words using NLTK.\n",
        "words = [word.lower() for word in words if word.lower() not in stop_words] # Remove stop words from the list of words, and convert them to lowercase.\n",
        "word_freq = Counter(words) # Count the frequency of each word.\n",
        "most_common_words = word_freq.most_common(10) # Extract the 10 most common words and their frequencies.\n",
        "for word, freq in most_common_words:\n",
        "    print(f\"{word}: {freq}\")"
      ]
    },
    {
      "cell_type": "code",
      "execution_count": null,
      "metadata": {
        "colab": {
          "base_uri": "https://localhost:8080/"
        },
        "id": "MszRE36E4yqX",
        "outputId": "d6a7bdbb-2ba9-4913-8280-38c1c7bd32fb"
      },
      "outputs": [
        {
          "output_type": "stream",
          "name": "stdout",
          "text": [
            "0    WASHINGTON (Reuters) - The head of a conservat...\n",
            "1    WASHINGTON (Reuters) - Transgender people will...\n",
            "2    WASHINGTON (Reuters) - The special counsel inv...\n",
            "3    WASHINGTON (Reuters) - Trump campaign adviser ...\n",
            "4    SEATTLE/WASHINGTON (Reuters) - President Donal...\n",
            "Name: text, dtype: object\n"
          ]
        }
      ],
      "source": [
        "news.head()\n",
        "print(news['text'].head())"
      ]
    },
    {
      "cell_type": "code",
      "execution_count": null,
      "metadata": {
        "id": "OxAsYQ216qIN"
      },
      "outputs": [],
      "source": [
        "def clean_data(text):\n",
        "    # Elimină \"(Reuters)\" și textul dinainte\n",
        "    reuters_index = text.find(\"(Reuters)\")\n",
        "    if reuters_index != -1:\n",
        "        text = text[reuters_index + len(\"(Reuters)\"):]\n",
        "\n",
        "    # Elimină semnele de punctuație\n",
        "    no_punc = re.sub(r'[^\\w\\s]', '', text)\n",
        "\n",
        "    # Lematizează textul\n",
        "    lemmatizer = WordNetLemmatizer()\n",
        "    lemmatized_text = ' '.join([lemmatizer.lemmatize(word) for word in no_punc.split()])\n",
        "\n",
        "    # Elimină numerele\n",
        "    text_no_numbers = ''.join([i for i in lemmatized_text if not i.isdigit()])\n",
        "\n",
        "    # Convertește la litere mici și elimină link-urile\n",
        "    text_lower_without_links = re.sub(r'http\\S+', '', text_no_numbers.lower().strip())\n",
        "\n",
        "    # Elimină stop words\n",
        "    stop_words = set(stopwords.words('english'))\n",
        "    text_without_stopwords = ' '.join([word for word in text_lower_without_links.split() if word not in stop_words])\n",
        "\n",
        "    return text_without_stopwords\n",
        "\n",
        "news['text'] = news['text'].apply(clean_data)"
      ]
    },
    {
      "cell_type": "code",
      "execution_count": null,
      "metadata": {
        "colab": {
          "base_uri": "https://localhost:8080/",
          "height": 1000
        },
        "id": "un8eQCOY_kMd",
        "outputId": "95094c7b-ca8a-4307-e872-5fa5a54a54b9"
      },
      "outputs": [
        {
          "output_type": "execute_result",
          "data": {
            "text/plain": [
              "<pandas.io.formats.style.Styler at 0x7b37c0427730>"
            ],
            "text/html": [
              "<style type=\"text/css\">\n",
              "#T_714a6_row0_col1, #T_714a6_row1_col1, #T_714a6_row2_col1, #T_714a6_row3_col1, #T_714a6_row4_col1, #T_714a6_row5_col1, #T_714a6_row6_col1, #T_714a6_row7_col1, #T_714a6_row8_col1, #T_714a6_row9_col1 {\n",
              "  background-color: #008066;\n",
              "  color: #f1f1f1;\n",
              "}\n",
              "</style>\n",
              "<table id=\"T_714a6\" class=\"dataframe\">\n",
              "  <thead>\n",
              "    <tr>\n",
              "      <th class=\"blank level0\" >&nbsp;</th>\n",
              "      <th id=\"T_714a6_level0_col0\" class=\"col_heading level0 col0\" >text</th>\n",
              "      <th id=\"T_714a6_level0_col1\" class=\"col_heading level0 col1\" >class</th>\n",
              "    </tr>\n",
              "  </thead>\n",
              "  <tbody>\n",
              "    <tr>\n",
              "      <th id=\"T_714a6_level0_row0\" class=\"row_heading level0 row0\" >0</th>\n",
              "      <td id=\"T_714a6_row0_col0\" class=\"data row0 col0\" >head conservative republican faction us congress voted month huge expansion national debt pay tax cut called fiscal conservative sunday urged budget restraint keeping sharp pivot way among republicans us representative mark meadows speaking cbs face nation drew hard line federal spending lawmaker bracing battle january return holiday wednesday lawmaker begin trying pas federal budget fight likely linked issue immigration policy even november congressional election campaign approach republicans seek keep control congress president donald trump republicans want big budget increase military spending democrats also want proportional increase nondefense discretionary spending program support education scientific research infrastructure public health environmental protection trump administration ha already willing say going increase nondefense discretionary spending percent meadows chairman small influential house freedom caucus said program democrats saying thats enough need give government pay raise percent fiscal conservative dont see rationale eventually run people money said meadows wa among republicans voted late december party debtfinanced tax overhaul expected balloon federal budget deficit add trillion year trillion national debt interesting hear mark talk fiscal responsibility democratic us representative joseph crowley said cbs crowley said republican tax bill would require united states borrow trillion paid future generation finance tax cut corporation rich one least fiscally responsible bill weve ever seen passed history house representatives think going paying many many year come crowley said republicans insist tax package biggest us tax overhaul year boost economy job growth house speaker paul ryan also supported tax bill recently went meadows making clear radio interview welfare entitlement reform party often call would top republican priority republican parlance entitlement program mean food stamp housing assistance medicare medicaid health insurance elderly poor disabled well program created washington assist needy democrats seized ryans early december remark saying showed republicans would try pay tax overhaul seeking spending cut social program goal house republicans may take back seat senate vote democrats needed approve budget prevent government shutdown democrats use leverage senate republicans narrowly control defend discretionary nondefense program social spending tackling issue dreamers people brought illegally country child trump september put march expiration date deferred action childhood arrivals daca program protects young immigrant deportation provides work permit president ha said recent twitter message want funding proposed mexican border wall immigration law change exchange agreeing help dreamers representative debbie dingell told cbs favor linking issue policy objective wall funding need daca clean said wednesday trump aide meet congressional leader discus issue followed weekend strategy session trump republican leader jan white house said trump wa also scheduled meet sunday florida republican governor rick scott want emergency aid house ha passed billion aid package hurricane florida texas puerto rico wildfire california package far exceeded billion requested trump administration senate ha yet voted aid</td>\n",
              "      <td id=\"T_714a6_row0_col1\" class=\"data row0 col1\" >1</td>\n",
              "    </tr>\n",
              "    <tr>\n",
              "      <th id=\"T_714a6_level0_row1\" class=\"row_heading level0 row1\" >1</th>\n",
              "      <td id=\"T_714a6_row1_col0\" class=\"data row1 col0\" >transgender people allowed first time enlist us military starting monday ordered federal court pentagon said friday president donald trumps administration decided appeal ruling blocked transgender ban two federal appeal court one washington one virginia last week rejected administration request put hold order lower court judge requiring military begin accepting transgender recruit jan justice department official said administration challenge ruling department defense ha announced releasing independent study issue coming week rather litigate interim appeal occurs administration ha decided wait dods study continue defend president lawful authority district court meantime official said speaking condition anonymity september pentagon said created panel senior official study implement directive trump prohibit transgender individual serving defense department ha feb submit plan trump lawyers representing currentlyserving transgender service member aspiring recruit said expected administration appeal ruling conservativemajority supreme court hoping would happen pentagon spokeswoman heather babb said statement mandated court order department defense prepared begin accessing transgender applicant military service jan applicant must meet accession standard jennifer levi lawyer gay lesbian transgender advocacy group glad called decision appeal great news im hoping mean government ha come see way justify ban good military country levi said glad american civil liberties union represent plaintiff lawsuit filed administration move appealed hardline conservative supporter trump announced july would prohibit transgender people serving military reversing democratic president barack obamas policy accepting trump said twitter time military cannot burdened tremendous medical cost disruption transgender military would entail four federal judge baltimore washington dc seattle riverside california issued ruling blocking trumps ban legal challenge republican president policy proceed judge said ban would likely violate right us constitution equal protection law pentagon dec issued guideline recruitment personnel order enlist transgender applicant jan memo outlined medical requirement specified applicant sex would identified even undergarment would wear trump administration previously said legal paper armed force prepared train thousand personnel medical standard needed process transgender applicant might accept individual medically fit service obama administration set deadline july begin accepting transgender recruit trumps defense secretary james mattis postponed date jan president ban put indefinitely trump ha taken step aimed rolling back transgender right october administration said federal law banning genderbased workplace discrimination doe protect transgender employee reversing another obamaera position february trump rescinded guidance issued obama administration saying public school allow transgender student use restroom corresponds gender identity</td>\n",
              "      <td id=\"T_714a6_row1_col1\" class=\"data row1 col1\" >1</td>\n",
              "    </tr>\n",
              "    <tr>\n",
              "      <th id=\"T_714a6_level0_row2\" class=\"row_heading level0 row2\" >2</th>\n",
              "      <td id=\"T_714a6_row2_col0\" class=\"data row2 col0\" >special counsel investigation link russia president trumps election campaign continue without interference despite call trump administration ally republican lawmaker shut prominent republican senator said sunday lindsey graham serf senate armed force judiciary committee said department justice special counsel robert mueller need carry russia investigation without political interference investigation go forward investigation conducted without political influence graham said cbss face nation news program need let mr mueller job think right guy right time question russia may interfered election trumps campaign may link coordinated effort ha loomed white house since trump took office january show sign receding trump prepares second year power despite intensified rhetoric trump ally recent week accusing muellers team bias republican president trump seemed undercut supporter interview last week new york times said expected mueller wa going fair russias role election question possible link trump campaign focus multiple inquiry washington three committee senate house representatives investigating well mueller whose team may took earlier probe launched us federal bureau investigation fbi several member trump campaign administration convicted indicted investigation trump ally deny collusion russia campaign kremlin ha denied meddling election graham said still want examination fbis use dossier link trump russia wa compiled former british spy christopher steele prompted trump ally republicans question muellers inquiry saturday new york times reported wa dossier triggered early fbi probe tip former trump campaign foreign policy adviser george papadopoulos australian diplomat russia damaging information former trump rival hillary clinton want somebody look way department justice used dossier bother greatly way used want somebody look graham said said russia investigation must continue matter fact would hurt u ignored said</td>\n",
              "      <td id=\"T_714a6_row2_col1\" class=\"data row2 col1\" >1</td>\n",
              "    </tr>\n",
              "    <tr>\n",
              "      <th id=\"T_714a6_level0_row3\" class=\"row_heading level0 row3\" >3</th>\n",
              "      <td id=\"T_714a6_row3_col0\" class=\"data row3 col0\" >trump campaign adviser george papadopoulos told australian diplomat may russia political dirt democratic presidential candidate hillary clinton new york times reported saturday conversation papadopoulos diplomat alexander downer london wa driving factor behind fbis decision open counterintelligence investigation moscows contact trump campaign times reported two month meeting australian official passed information came papadopoulos american counterpart leaked democratic email began appearing online according newspaper cited four current former us foreign official besides information australians probe federal bureau investigation wa also propelled intelligence friendly government including british dutch times said papadopoulos chicagobased international energy lawyer pleaded guilty oct lying fbi agent contact people claimed tie top russian official wa first criminal charge alleging link trump campaign russia white house ha played former aide campaign role saying wa extremely limited action took would new york times however reported papadopoulos helped set meeting thencandidate donald trump egyptian president abdel fattah alsisi edited outline trumps first major foreign policy speech april federal investigation led special counsel robert mueller ha hung trumps white house since took office almost year ago trump ally recently accused muellers team biased republican president lawyers papadopoulos immediately respond request reuters comment muellers office declined comment trumps white house attorney ty cobb declined comment new york times report respect special counsel process commenting matter said statement mueller ha charged four trump associate including papadopoulos investigation russia ha denied interfering us election trump ha said wa collusion campaign moscow</td>\n",
              "      <td id=\"T_714a6_row3_col1\" class=\"data row3 col1\" >1</td>\n",
              "    </tr>\n",
              "    <tr>\n",
              "      <th id=\"T_714a6_level0_row4\" class=\"row_heading level0 row4\" >4</th>\n",
              "      <td id=\"T_714a6_row4_col0\" class=\"data row4 col0\" >president donald trump called us postal service friday charge much ship package amazon amzno picking another fight online retail giant ha criticized past united states post office losing many billion dollar year charging amazon others little deliver package making amazon richer post office dumber poorer charging much trump wrote twitter president tweet drew fresh attention fragile finance postal service time ten million parcel shipped country holiday season us postal service run big loss independent agency within federal government doe receive tax dollar operating expense according website package delivery ha become increasingly important part business internet ha led sharp decline amount firstclass letter president doe determine postal rate set postal regulatory commission independent government agency commissioner selected president political party panel raised price package almost percent november amazon wa founded jeff bezos remains chief executive officer retail company richest person world according bloomberg news bezos also owns washington post newspaper trump ha repeatedly railed criticism news medium tweet past year trump ha said amazon washington post fabricated story ha said amazon doe pay sale tax true hurt retailer part pattern former businessman reality television host periodically turning ire big american company since took office january daniel ives research analyst gbh insights said trumps comment could taken warning retail giant however said wa concerned amazon see price hike future however risk amazon clearly aware building distribution system aggressively said amazon ha shown interest past shifting delivery service including testing drone delivery company spent billion shipping percent total operating expense year amazon share percent early afternoon overall us stock price slightly friday satish jindel president shipmatrix inc analyzes shipping data disputed idea postal service charge le united parcel service inc upsn fedex corp fdxn biggest player parcel delivery business united states many customer get lower rate ups fedex would get post office comparable service said postal service delivers percent amazon package million day current peak yearend holiday shipping season jindel said seattlebased company post office agreement mail carrier take amazon package last leg journey post office customer doorstep amazons carrier ups percent fedex third percent according jindel trumps comment tapped debate whether postal service pricing ha kept pace rise ecommerce ha flooded mail small packagesprivate company like ups long claimed current system unfairly undercut business steve gaut spokesman ups noted company value productive relationship postal service ha filed postal regulatory commission concern postal service method covering cost representatives amazon white house us postal service fedex declined comment immediately available comment trumps tweet according annual report postal service lost billion year deficit ha ballooned billion postal services revenue first class mail marketing mail periodical flat declining revenue package delivery percent since billion fiscal year ended sept also lost billion revenue temporary surcharge expired april according government accountability office report february service facing growing personnel expense particularly billion unfunded pension benefit liability postal service ha announced plan cut cost law postal service ha set price package delivery cover cost attributable service postal service allocates percent total cost business shipping package even though line business percent total revenue</td>\n",
              "      <td id=\"T_714a6_row4_col1\" class=\"data row4 col1\" >1</td>\n",
              "    </tr>\n",
              "    <tr>\n",
              "      <th id=\"T_714a6_level0_row5\" class=\"row_heading level0 row5\" >5</th>\n",
              "      <td id=\"T_714a6_row5_col0\" class=\"data row5 col0\" >white house said friday wa set kick talk next week republican democratic congressional leader immigration policy government spending issue need wrapped early new year expected flurry legislative activity come republicans democrats begin set stage midterm congressional election november president donald trumps republican party eager maintain control congress democrats look opening wrest seat away senate house representatives wednesday trumps budget chief mick mulvaney legislative affair director marc short meet senate majority leader mitch mcconnell house speaker paul ryan republicans democratic counterpart senator chuck schumer representative nancy pelosi white house said followed weekend strategy session trump mcconnell ryan jan camp david presidential retreat maryland according white house senate return work jan house jan congress passed shortterm government funding bill last week taking christmas break need come agreement defense spending various domestic program jan government shut also agenda lawmaker disaster aid people hit hurricane puerto rico texas florida wildfire california house passed billion package december senate take white house ha asked smaller figure billion deadlines also loom soontoexpire protection young adult immigrant entered country illegally child known dreamers september trump ended democratic former president barack obamas deferred action childhood arrivals daca program protected dreamers deportation provided work permit effective march giving congress devise longterm solution democrats republicans number large company pushed daca protection continue trump republicans said happen without congress approving broader immigration policy change tougher border security democrats oppose funding wall promised trump along usmexican border democrats told fully understand daca without desperately needed wall southern border end horrible chain migration ridiculous lottery system immigration etc trump said twitter post friday trump want overhaul immigration rule extended family others seeking live united states republican us senator jeff flake frequent critic president said would work trump protect dreamers fix daca way beef border security stop chain migration dreamers address unfairness diversity lottery potus trump want protect kid want help keep promise flake wrote twitter congress early also must raise us debt ceiling avoid government default us treasury would exhaust borrowing option run dry cash pay bill late march early april congress doe raise debt ceiling according nonpartisan congressional budget office trump first major legislative victory passage major tax overhaul month ha also promised major infrastructure plan</td>\n",
              "      <td id=\"T_714a6_row5_col1\" class=\"data row5 col1\" >1</td>\n",
              "    </tr>\n",
              "    <tr>\n",
              "      <th id=\"T_714a6_level0_row6\" class=\"row_heading level0 row6\" >6</th>\n",
              "      <td id=\"T_714a6_row6_col0\" class=\"data row6 col0\" >president donald trump said thursday belief fairly treated special counsel investigation russian meddling us presidential election said know long probe would last federal investigation ha hung trumps white house since took office almost year ago trump ally recent week accused team justice department special counsel robert mueller biased republican president interview new york times trump appeared shrug concern investigation wa prompted us intelligence agency conclusion russia tried help trump defeat democrat hillary clinton hacking releasing embarrassing email disseminating propaganda theres collusion think going fair trump said times described minute impromptu interview golf club west palm beach florida mueller ha charged four trump associate investigation russia ha denied interfering us election us deputy attorney general rod rosenstein said month wa aware impropriety muellers team trumps lawyer saying week expected mueller investigation wrap quickly possibly end mueller ha commented long last trump told times know long investigation would take timingwise cant tell dont know said trump said thought prolonged probe make country look bad said ha energized core supporter done really angered base made base stronger base strong ever said interview wa rare break trumps christmas vacation florida ha golfed day aside christmas day mainly kept low profile apart occasional flurry tweet spent one day golfing republican senator david perdue georgia ha pushed legislation cap immigration number dinner thursday commerce secretary wilbur ross international trade hawk trump told times hoped work democrats us congress spending plan fix road infrastructure protection group undocumented immigrant brought united states child trump spoke trade issue saying backed hard line chinese trade practice hope beijing would pressure north korea end nuclear missile testing program said disappointed result also complained north american free trade agreement nafta administration attempting renegotiate talk mexico canada trump said canadian prime minister justin trudeau played importance canadian oil lumber export united states looking balance trade two country dont make right deal ill terminate nafta two second pretty good trump said</td>\n",
              "      <td id=\"T_714a6_row6_col1\" class=\"data row6 col1\" >1</td>\n",
              "    </tr>\n",
              "    <tr>\n",
              "      <th id=\"T_714a6_level0_row7\" class=\"row_heading level0 row7\" >7</th>\n",
              "      <td id=\"T_714a6_row7_col0\" class=\"data row7 col0\" >following statement posted verified twitter account us president donald trump realdonaldtrump potus opinion expressed reuters ha edited statement confirmed accuracy realdonaldtrump fake news love talk socalled low approval rating foxandfriends showed rating dec wa approximately president obama dec wa despite massive negative trump coverage russia hoax est united states post office losing many billion dollar year charging amazon others little deliver package making amazon richer post office dumber poorer charging much est source link bitlyjbhlu bitlyjpexyr</td>\n",
              "      <td id=\"T_714a6_row7_col1\" class=\"data row7 col1\" >1</td>\n",
              "    </tr>\n",
              "    <tr>\n",
              "      <th id=\"T_714a6_level0_row8\" class=\"row_heading level0 row8\" >8</th>\n",
              "      <td id=\"T_714a6_row8_col0\" class=\"data row8 col0\" >following statement posted verified twitter account us president donald trump realdonaldtrump potus opinion expressed reuters ha edited statement confirmed accuracy realdonaldtrump together making america great bitlylnpkaq est east could coldest new years eve record perhaps could use little bit good old global warming country country wa going pay trillions dollars protect bundle est source link bitlyjbhlu bitlyjpexyr</td>\n",
              "      <td id=\"T_714a6_row8_col1\" class=\"data row8 col1\" >1</td>\n",
              "    </tr>\n",
              "    <tr>\n",
              "      <th id=\"T_714a6_level0_row9\" class=\"row_heading level0 row9\" >9</th>\n",
              "      <td id=\"T_714a6_row9_col0\" class=\"data row9 col0\" >alabama secretary state john merrill said certify democratic senatorelect doug jones winner thursday despite opponent roy moores challenge phone call cnn moore conservative faced allegation groping teenage girl wa filed court challenge late wednesday outcome us senate election unexpectedly lost</td>\n",
              "      <td id=\"T_714a6_row9_col1\" class=\"data row9 col1\" >1</td>\n",
              "    </tr>\n",
              "  </tbody>\n",
              "</table>\n"
            ]
          },
          "metadata": {},
          "execution_count": 21
        }
      ],
      "source": [
        "news.head(n = 10).style.background_gradient(cmap = 'summer')"
      ]
    },
    {
      "cell_type": "markdown",
      "metadata": {
        "id": "zS2kATugBhyu"
      },
      "source": [
        "##Data Preparation for LSTM"
      ]
    },
    {
      "cell_type": "code",
      "execution_count": null,
      "metadata": {
        "id": "KHdQjQfXBk2u"
      },
      "outputs": [],
      "source": [
        "x = news['text'] #variabila dependenta\n",
        "y = news['class'] #variabila independenta"
      ]
    },
    {
      "cell_type": "code",
      "execution_count": null,
      "metadata": {
        "id": "aG1hmKASD14l"
      },
      "outputs": [],
      "source": [
        "# Tokenizarea\n",
        "tokenizer = Tokenizer()\n",
        "tokenizer.fit_on_texts(x)\n",
        "# Calcularea dimensiunii vocabularului\n",
        "vocab_size = len(tokenizer.word_index) + 1\n",
        "# Transformarea textului în secvențe de indexuri numerice\n",
        "x_sequences = tokenizer.texts_to_sequences(x)\n",
        "#  Umplerea (padding) secvențelor cu zero-uri pentru a le uniformiza lungimea la 1000 de caractere\n",
        "x_padded = pad_sequences(x_sequences, maxlen=1000)"
      ]
    },
    {
      "cell_type": "code",
      "execution_count": null,
      "metadata": {
        "id": "YbGYAoDRH8KE"
      },
      "outputs": [],
      "source": [
        "# Divizarea datelor în setul de antrenare și de testare\n",
        "x_train, x_test, y_train, y_test = train_test_split(x_padded, y, test_size=0.3, random_state=42)"
      ]
    },
    {
      "cell_type": "markdown",
      "metadata": {
        "id": "-XGWIV3WXJ3L"
      },
      "source": [
        "##Model"
      ]
    },
    {
      "cell_type": "code",
      "execution_count": null,
      "metadata": {
        "id": "C30NZbfkLqGa"
      },
      "outputs": [],
      "source": [
        "# Construirea modelului LSTM\n",
        "model = Sequential()\n",
        "model.add(Embedding(input_dim=vocab_size, output_dim=30, input_length=1000))\n",
        "model.add(LSTM(units=100))\n",
        "model.add(Dense(1, activation='sigmoid'))\n",
        "model.compile(optimizer='adam', loss='binary_crossentropy', metrics=['acc'])"
      ]
    },
    {
      "cell_type": "code",
      "execution_count": null,
      "metadata": {
        "colab": {
          "base_uri": "https://localhost:8080/"
        },
        "id": "rczcvmrgUWM5",
        "outputId": "45a0589c-9ed5-4425-ce98-79c1b3116b29"
      },
      "outputs": [
        {
          "output_type": "stream",
          "name": "stdout",
          "text": [
            "Model: \"sequential\"\n",
            "_________________________________________________________________\n",
            " Layer (type)                Output Shape              Param #   \n",
            "=================================================================\n",
            " embedding (Embedding)       (None, 1000, 30)          6101040   \n",
            "                                                                 \n",
            " lstm (LSTM)                 (None, 100)               52400     \n",
            "                                                                 \n",
            " dense (Dense)               (None, 1)                 101       \n",
            "                                                                 \n",
            "=================================================================\n",
            "Total params: 6153541 (23.47 MB)\n",
            "Trainable params: 6153541 (23.47 MB)\n",
            "Non-trainable params: 0 (0.00 Byte)\n",
            "_________________________________________________________________\n"
          ]
        }
      ],
      "source": [
        "model.summary()"
      ]
    },
    {
      "cell_type": "code",
      "execution_count": null,
      "metadata": {
        "colab": {
          "base_uri": "https://localhost:8080/"
        },
        "id": "Tsl9H843LsbX",
        "outputId": "da01b33e-5ae5-4a17-c962-ad735d686484"
      },
      "outputs": [
        {
          "output_type": "stream",
          "name": "stdout",
          "text": [
            "Epoch 1/6\n",
            "978/978 [==============================] - 174s 173ms/step - loss: 0.1548 - acc: 0.9411 - val_loss: 0.0648 - val_acc: 0.9801\n",
            "Epoch 2/6\n",
            "978/978 [==============================] - 94s 96ms/step - loss: 0.0793 - acc: 0.9739 - val_loss: 0.1549 - val_acc: 0.9379\n",
            "Epoch 3/6\n",
            "978/978 [==============================] - 72s 74ms/step - loss: 0.0309 - acc: 0.9906 - val_loss: 0.0786 - val_acc: 0.9742\n",
            "Epoch 4/6\n",
            "978/978 [==============================] - 64s 65ms/step - loss: 0.0123 - acc: 0.9967 - val_loss: 0.0840 - val_acc: 0.9734\n",
            "Epoch 5/6\n",
            "978/978 [==============================] - 54s 56ms/step - loss: 0.0038 - acc: 0.9991 - val_loss: 0.0770 - val_acc: 0.9811\n",
            "Epoch 6/6\n",
            "978/978 [==============================] - 51s 52ms/step - loss: 0.0041 - acc: 0.9990 - val_loss: 0.0811 - val_acc: 0.9804\n"
          ]
        },
        {
          "output_type": "execute_result",
          "data": {
            "text/plain": [
              "<keras.src.callbacks.History at 0x7b377eb7b760>"
            ]
          },
          "metadata": {},
          "execution_count": 27
        }
      ],
      "source": [
        "model.fit(x_train, y_train, epochs=6, validation_data=(x_test, y_test))"
      ]
    },
    {
      "cell_type": "code",
      "execution_count": null,
      "metadata": {
        "colab": {
          "base_uri": "https://localhost:8080/"
        },
        "id": "60ajYWBxdnsk",
        "outputId": "6c540c65-f726-4059-b0ee-fb7981270f86"
      },
      "outputs": [
        {
          "output_type": "stream",
          "name": "stdout",
          "text": [
            "419/419 [==============================] - 6s 15ms/step - loss: 0.0811 - acc: 0.9804\n"
          ]
        },
        {
          "output_type": "execute_result",
          "data": {
            "text/plain": [
              "[0.08112139254808426, 0.9803833961486816]"
            ]
          },
          "metadata": {},
          "execution_count": 28
        }
      ],
      "source": [
        "model.evaluate(x_test, y_test)"
      ]
    },
    {
      "cell_type": "code",
      "execution_count": null,
      "metadata": {
        "colab": {
          "base_uri": "https://localhost:8080/"
        },
        "id": "UFddLYzXePgB",
        "outputId": "d9481c28-f1dc-4f48-e145-b7846ca4c025"
      },
      "outputs": [
        {
          "output_type": "stream",
          "name": "stdout",
          "text": [
            "419/419 [==============================] - 6s 13ms/step\n"
          ]
        }
      ],
      "source": [
        "y_pred = (model.predict(x_test) >= 0.5).astype(int)"
      ]
    },
    {
      "cell_type": "code",
      "execution_count": null,
      "metadata": {
        "colab": {
          "base_uri": "https://localhost:8080/",
          "height": 564
        },
        "id": "a0WKVLdheWuk",
        "outputId": "9c88340d-de3e-48de-f216-e40dc6aa24fe"
      },
      "outputs": [
        {
          "output_type": "display_data",
          "data": {
            "text/plain": [
              "<Figure size 800x600 with 1 Axes>"
            ],
            "image/png": "[encoded data removed]"
          },
          "metadata": {}
        }
      ],
      "source": [
        "conf_matrix = confusion_matrix(y_test, y_pred)\n",
        "plt.figure(figsize=(8, 6))\n",
        "sns.heatmap(conf_matrix, annot=True, fmt='d', cmap='Blues', cbar=False,\n",
        "            xticklabels=['Negativ', 'Pozitiv'], yticklabels=['Negativ', 'Pozitiv'])\n",
        "plt.xlabel('Predicted')\n",
        "plt.ylabel('Actual')\n",
        "plt.title('Confusion matrix')\n",
        "plt.show()"
      ]
    },
    {
      "cell_type": "code",
      "execution_count": null,
      "metadata": {
        "colab": {
          "base_uri": "https://localhost:8080/"
        },
        "id": "rSs3soqvixoI",
        "outputId": "5271919d-52dd-4698-9569-abf0a55e0245"
      },
      "outputs": [
        {
          "output_type": "stream",
          "name": "stdout",
          "text": [
            "Matricea de confuzie:\n",
            "[[6841  118]\n",
            " [ 145 6303]]\n"
          ]
        }
      ],
      "source": [
        "conf_matrix = confusion_matrix(y_test, y_pred)\n",
        "print(\"Matricea de confuzie:\")\n",
        "print(conf_matrix)"
      ]
    },
    {
      "cell_type": "markdown",
      "metadata": {
        "id": "A51nnHv0eu7t"
      },
      "source": [
        "##Test"
      ]
    },
    {
      "cell_type": "code",
      "execution_count": null,
      "metadata": {
        "colab": {
          "base_uri": "https://localhost:8080/"
        },
        "id": "RidTLfbaeuR7",
        "outputId": "58677006-ab8c-4001-abac-b9daa93d10b4"
      },
      "outputs": [
        {
          "output_type": "stream",
          "name": "stdout",
          "text": [
            "1/1 [==============================] - 0s 43ms/step\n"
          ]
        },
        {
          "output_type": "execute_result",
          "data": {
            "text/plain": [
              "array([[0]])"
            ]
          },
          "metadata": {},
          "execution_count": 52
        }
      ],
      "source": [
        "stire_falsa = ['In a story that stretches the bounds of belief, rumors are swirling that former U.S. President Donald Trump recently experienced a surreal encounter with extraterrestrial beings. Allegedly, Trump was abducted by aliens during a late-night golf outing at one of his luxurious resorts, leading to wild speculations about the nature of his interstellar adventure.']\n",
        "stire_reala = [r'In September, Trump said that if re-elected president, he would resolve the war within 24 hours but declined to outline his peace plan. \"If I tell you exactly, I lose all my bargaining chips. I mean, you can’t really say exactly what you’re going to do. But I would say certain things to Putin. I would say certain things to Zelenskiy,\" he said.']\n",
        "stire = tokenizer.texts_to_sequences(stire_falsa)\n",
        "stire = pad_sequences(stire, maxlen = 1000)\n",
        "(model.predict(stire) >= 0.5).astype(int)"
      ]
    },
    {
      "cell_type": "markdown",
      "metadata": {
        "id": "dg-_-HvSJoBj"
      },
      "source": [
        "----------------------------------------------------------------------------------------------------------------------------"
      ]
    }
  ],
  "metadata": {
    "colab": {
      "collapsed_sections": [
        "pPf99PYNucMB",
        "_Pwl3BQYkUQ9",
        "yi3fRGnIk4gh",
        "zS2kATugBhyu",
        "-XGWIV3WXJ3L",
        "A51nnHv0eu7t"
      ],
      "provenance": [],
      "gpuType": "T4",
      "authorship_tag": "ABX9TyNrxmh7UvrlzmsP/I+xwzMv",
      "include_colab_link": true
    },
    "kernelspec": {
      "display_name": "Python 3",
      "name": "python3"
    },
    "language_info": {
      "name": "python"
    },
    "accelerator": "GPU"
  },
  "nbformat": 4,
  "nbformat_minor": 0
}